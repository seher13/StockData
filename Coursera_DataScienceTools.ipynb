{
  "nbformat": 4,
  "nbformat_minor": 0,
  "metadata": {
    "colab": {
      "name": "Coursera DataScienceTools.ipynb",
      "provenance": [],
      "collapsed_sections": [],
      "authorship_tag": "ABX9TyOQK6zRDH8JWAR+VPx1EQHR",
      "include_colab_link": true
    },
    "kernelspec": {
      "name": "python3",
      "display_name": "Python 3"
    },
    "language_info": {
      "name": "python"
    }
  },
  "cells": [
    {
      "cell_type": "markdown",
      "metadata": {
        "id": "view-in-github",
        "colab_type": "text"
      },
      "source": [
        "<a href=\"https://colab.research.google.com/github/seher13/StockData/blob/main/Coursera_DataScienceTools.ipynb\" target=\"_parent\"><img src=\"https://colab.research.google.com/assets/colab-badge.svg\" alt=\"Open In Colab\"/></a>"
      ]
    },
    {
      "cell_type": "markdown",
      "source": [
        "#My Jupyter Notebook on IBM Watson Studio"
      ],
      "metadata": {
        "id": "_3YEGCqOd0Sb"
      }
    },
    {
      "cell_type": "markdown",
      "source": [
        ""
      ],
      "metadata": {
        "id": "rw2qZKVWeMvG"
      }
    },
    {
      "cell_type": "code",
      "execution_count": 1,
      "metadata": {
        "id": "XW1gSqModlb2"
      },
      "outputs": [],
      "source": [
        "#My Jupyter Notebook on IBM Watson Studio"
      ]
    },
    {
      "cell_type": "markdown",
      "source": [
        "**Danijel**\n",
        "\n",
        "Data Scientist"
      ],
      "metadata": {
        "id": "i-6Ox7UNeaaD"
      }
    },
    {
      "cell_type": "markdown",
      "source": [
        "*I am interested in data science because I like to solve complex problems with data.*"
      ],
      "metadata": {
        "id": "37Q2J1YXekO7"
      }
    },
    {
      "cell_type": "markdown",
      "source": [
        "### My code in cell 5 should sum"
      ],
      "metadata": {
        "id": "C71Fw3iYevna"
      }
    },
    {
      "cell_type": "code",
      "source": [
        "1+1"
      ],
      "metadata": {
        "colab": {
          "base_uri": "https://localhost:8080/"
        },
        "id": "Yc6QPI7BdzgB",
        "outputId": "591a33d0-9d74-419f-d766-f224fcc4b4ba"
      },
      "execution_count": 3,
      "outputs": [
        {
          "output_type": "execute_result",
          "data": {
            "text/plain": [
              "2"
            ]
          },
          "metadata": {},
          "execution_count": 3
        }
      ]
    },
    {
      "cell_type": "markdown",
      "source": [
        "\n",
        "\n",
        "*   1\n",
        "*   2\n",
        "\n",
        "\n",
        "\n",
        "1.   a\n",
        "2.   b\n",
        "\n",
        "\n",
        "\n",
        "\n",
        "---\n",
        "\n",
        "\n",
        "https://www.google.com/\n",
        "\n",
        "\n",
        "\n"
      ],
      "metadata": {
        "id": "NkOf5sJQe6bX"
      }
    }
  ]
}